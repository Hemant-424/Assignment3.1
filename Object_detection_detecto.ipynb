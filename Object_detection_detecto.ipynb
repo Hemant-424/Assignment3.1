{
  "nbformat": 4,
  "nbformat_minor": 0,
  "metadata": {
    "colab": {
      "name": "Object_detection_detecto.ipynb",
      "provenance": [],
      "collapsed_sections": [],
      "authorship_tag": "ABX9TyMknLRo2dxPKZ6DrIiQI2ue",
      "include_colab_link": true
    },
    "kernelspec": {
      "name": "python3",
      "display_name": "Python 3"
    },
    "accelerator": "GPU"
  },
  "cells": [
    {
      "cell_type": "markdown",
      "metadata": {
        "id": "view-in-github",
        "colab_type": "text"
      },
      "source": [
        "<a href=\"https://colab.research.google.com/github/Hemant-424/Assignment3.1/blob/master/Object_detection_detecto.ipynb\" target=\"_parent\"><img src=\"https://colab.research.google.com/assets/colab-badge.svg\" alt=\"Open In Colab\"/></a>"
      ]
    },
    {
      "cell_type": "markdown",
      "metadata": {
        "id": "ePOfxCDz0G9w",
        "colab_type": "text"
      },
      "source": [
        "# **Object Detection in 10-line coding**\n",
        "\n",
        "Object detection is the one of most demanding field in Computer vision and for that we need the GPU for fast processing. In this Project we are going to using Google colaboratory because it gives free access to use GPU. To open the Google colaboratory following steps:\n",
        "\n",
        "\n",
        "1.   Open the google drive\n",
        "2.   create a new folder & in that folder follow the below steps \n",
        "        >new >more > google colaboratory > click on it.\n",
        "2.   set the GPU to the notebook\n",
        "        > Edit > Notebook Settings > Hardware Accelerator > GPU > save it.\n",
        "\n",
        "\n",
        "\n",
        "\n",
        "\n",
        "\n"
      ]
    },
    {
      "cell_type": "markdown",
      "metadata": {
        "id": "xGh04mWe1rUu",
        "colab_type": "text"
      },
      "source": [
        "**Follow the below steps to build your own customise Object Detector model using Detecto module**.\n",
        "\n",
        "\n",
        "1.   Installing and Importing the Detecto modules\n",
        "2.   Load the Labels Images with .xml file\n",
        "3.   Pass the  classes of the images over the model\n",
        "4.   Fit the model on the labeled images\n",
        "5.   Test the fitted model over test image\n",
        "5.   Plot the predicted images "
      ]
    },
    {
      "cell_type": "markdown",
      "metadata": {
        "id": "y1rYOYif3ZtN",
        "colab_type": "text"
      },
      "source": [
        "**Installing the Detecto module by running the below command line**"
      ]
    },
    {
      "cell_type": "code",
      "metadata": {
        "id": "xiUypGhft-oJ",
        "colab_type": "code",
        "colab": {}
      },
      "source": [
        "pip install detecto"
      ],
      "execution_count": 0,
      "outputs": []
    },
    {
      "cell_type": "markdown",
      "metadata": {
        "id": "ehC-m3j633ca",
        "colab_type": "text"
      },
      "source": [
        "**Importing the Detecto module and from the detecto import the modules:**\n",
        "\n",
        "1.   utils - to read the image from the data source\n",
        "2.   core - to load the pretrained model from detecto\n",
        "3.   visualize - to make the detected object(output) \n",
        "\n"
      ]
    },
    {
      "cell_type": "code",
      "metadata": {
        "id": "cTOSd0eq9m8Q",
        "colab_type": "code",
        "colab": {}
      },
      "source": [
        "import detecto\n",
        "from detecto import utils, core, visualize"
      ],
      "execution_count": 0,
      "outputs": []
    },
    {
      "cell_type": "markdown",
      "metadata": {
        "id": "0JaXhPdl4-5Y",
        "colab_type": "text"
      },
      "source": [
        "**Importing the torch module and checking whether the GPU is avalaible or not by running the following command**\n",
        "\n",
        "To train this model we need GPU not CPU because CPU takes lots of time(more than 10 hours to train the model on the trainig image dataset) but on GPU it will take less than **10-minutes**."
      ]
    },
    {
      "cell_type": "code",
      "metadata": {
        "id": "pqHZU0286zs0",
        "colab_type": "code",
        "colab": {}
      },
      "source": [
        "import torch\n",
        "print(torch.cuda.is_available())"
      ],
      "execution_count": 0,
      "outputs": []
    },
    {
      "cell_type": "markdown",
      "metadata": {
        "id": "klkwm2Xs5Spd",
        "colab_type": "text"
      },
      "source": [
        "**Setting the path of Dataset**\n",
        "\n",
        "importing the following libraries to set the drive location where the training & testing images or videos are available."
      ]
    },
    {
      "cell_type": "code",
      "metadata": {
        "id": "kva9gjZ57pRI",
        "colab_type": "code",
        "colab": {}
      },
      "source": [
        "import os\n",
        "from google.colab import drive \n",
        "drive.mount('/content/drive')\n",
        "os.chdir('/content/drive/My Drive/DL/Object Detection')"
      ],
      "execution_count": 0,
      "outputs": []
    },
    {
      "cell_type": "markdown",
      "metadata": {
        "id": "T-J7g99Z6MM8",
        "colab_type": "text"
      },
      "source": [
        "**Saving the trainig dataset(labelled images) as dataset by using the core.Dataset from the detecto module**\n",
        "\n",
        "The labelled images contains images and .xml files together in same folder."
      ]
    },
    {
      "cell_type": "code",
      "metadata": {
        "id": "HoRoxSDn98-w",
        "colab_type": "code",
        "colab": {}
      },
      "source": [
        "dataset = core.Dataset('images/')"
      ],
      "execution_count": 0,
      "outputs": []
    },
    {
      "cell_type": "markdown",
      "metadata": {
        "id": "M-DB_RPf6v5j",
        "colab_type": "text"
      },
      "source": [
        "**Checking whether dataset is available or not in the detecto.core module**"
      ]
    },
    {
      "cell_type": "code",
      "metadata": {
        "id": "4-Gp-9MB-FQ0",
        "colab_type": "code",
        "colab": {}
      },
      "source": [
        "dataset"
      ],
      "execution_count": 0,
      "outputs": []
    },
    {
      "cell_type": "markdown",
      "metadata": {
        "id": "lsk8Vxey68aZ",
        "colab_type": "text"
      },
      "source": [
        "**Loading the classes in core.Model**\n",
        "\n",
        "Here we are defining the same classes, which is defined in the labelled images and based on that the model will train on the train dataset."
      ]
    },
    {
      "cell_type": "code",
      "metadata": {
        "id": "OoM5TBG7-Wpc",
        "colab_type": "code",
        "colab": {}
      },
      "source": [
        "model = core.Model(['with_helmet'])"
      ],
      "execution_count": 0,
      "outputs": []
    },
    {
      "cell_type": "markdown",
      "metadata": {
        "id": "A1c1LCTs7gYN",
        "colab_type": "text"
      },
      "source": [
        "**Fit the model on the dataset**"
      ]
    },
    {
      "cell_type": "code",
      "metadata": {
        "id": "337hSn2x-7-q",
        "colab_type": "code",
        "colab": {}
      },
      "source": [
        "model.fit(dataset)"
      ],
      "execution_count": 0,
      "outputs": []
    },
    {
      "cell_type": "markdown",
      "metadata": {
        "id": "efBeqKa6_K6v",
        "colab_type": "text"
      },
      "source": [
        "**Test the trained model over test image**\n",
        "\n",
        "Here we are passing a test image to test whether the model is detecting the object or not. Here we are detecting the object as Helmet by using the Detecto module.\n",
        "\n",
        "**Note:** trainig image, testing images and the Google colaboratory should be in same directory."
      ]
    },
    {
      "cell_type": "code",
      "metadata": {
        "id": "BYn_Zf49_Hhs",
        "colab_type": "code",
        "colab": {}
      },
      "source": [
        "testimg = utils.read_image('/content/drive/My Drive/DL/Object Detection/images/IMG_20200114_114305.jpg')\n",
        "prediction = model.predict(testimg)"
      ],
      "execution_count": 0,
      "outputs": []
    },
    {
      "cell_type": "markdown",
      "metadata": {
        "id": "FubpC_mA8QMk",
        "colab_type": "text"
      },
      "source": [
        "Now, we are checking the labels, boxes over the object and the scores(Accuracy) on the prediicted image."
      ]
    },
    {
      "cell_type": "code",
      "metadata": {
        "id": "iQ7qvea4B2FX",
        "colab_type": "code",
        "colab": {}
      },
      "source": [
        "# predictions format: (labels, boxes, scores)\n",
        "labels, boxes, scores = prediction"
      ],
      "execution_count": 0,
      "outputs": []
    },
    {
      "cell_type": "code",
      "metadata": {
        "id": "_CeZPtuHBthr",
        "colab_type": "code",
        "colab": {}
      },
      "source": [
        "print(labels, boxes, scores)"
      ],
      "execution_count": 0,
      "outputs": []
    },
    {
      "cell_type": "markdown",
      "metadata": {
        "id": "Eeq2uBP_8ner",
        "colab_type": "text"
      },
      "source": [
        "**Visualize the boxes and labels over the testing image**\n",
        "\n",
        "As we can see oue model is running better with 99% scores."
      ]
    },
    {
      "cell_type": "code",
      "metadata": {
        "id": "7eQhxYyVCCia",
        "colab_type": "code",
        "colab": {}
      },
      "source": [
        "visualize.show_labeled_image(testimg, boxes, labels)"
      ],
      "execution_count": 0,
      "outputs": []
    },
    {
      "cell_type": "markdown",
      "metadata": {
        "id": "nAxC2-RR88wr",
        "colab_type": "text"
      },
      "source": [
        "**Detecting the Helmet in video**\n",
        "\n",
        "Here, we are detecting the helmet(object) in the running video by using visualize.detect_video() and in that we have passed the three argument as model(the trained model on the labelled image), the video on which we are going to make prediction(Helmet.mp4) and in last saving as the predicted video as output.avi.\n",
        "\n",
        "\n"
      ]
    },
    {
      "cell_type": "code",
      "metadata": {
        "id": "NuKzcurzD0nC",
        "colab_type": "code",
        "colab": {}
      },
      "source": [
        "visualize.detect_video(model, 'Helmet.mp4', 'output.avi')"
      ],
      "execution_count": 0,
      "outputs": []
    },
    {
      "cell_type": "markdown",
      "metadata": {
        "id": "OAdFNLUR-NtE",
        "colab_type": "text"
      },
      "source": [
        "**Saving the model as .pth**\n",
        "\n",
        "We are saving the model as .pth(Pytorch model saved as .pth) for further use or for deployment."
      ]
    },
    {
      "cell_type": "code",
      "metadata": {
        "id": "UBayQfV0LYMf",
        "colab_type": "code",
        "colab": {}
      },
      "source": [
        "model.save('model_helmet.pth')"
      ],
      "execution_count": 0,
      "outputs": []
    }
  ]
}